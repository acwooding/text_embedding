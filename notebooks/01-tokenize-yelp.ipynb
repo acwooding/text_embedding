{
 "cells": [
  {
   "cell_type": "code",
   "execution_count": 1,
   "metadata": {},
   "outputs": [],
   "source": [
    "from sklearn.base import BaseEstimator\n",
    "from src.data import Dataset, load_dataset\n",
    "from src.data.estimators import SpacyTokenize\n",
    "\n",
    "import spacy\n",
    "import numpy as np\n",
    "\n",
    "from src.logging import logger\n",
    "logger.setLevel('DEBUG')"
   ]
  },
  {
   "cell_type": "code",
   "execution_count": 2,
   "metadata": {},
   "outputs": [],
   "source": [
    "%load_ext autoreload\n",
    "%autoreload 2"
   ]
  },
  {
   "cell_type": "code",
   "execution_count": 3,
   "metadata": {},
   "outputs": [
    {
     "name": "stderr",
     "output_type": "stream",
     "text": [
      "2018-09-06 20:06:48,464 - datasets - DEBUG - Found cached dataset for yelp: 45acd68c40c4f8cca8b62130b4d048eefa9d78c6\n"
     ]
    }
   ],
   "source": [
    "dataset_name = 'yelp'\n",
    "ds = load_dataset(dataset_name, num_reviews=1000)"
   ]
  },
  {
   "cell_type": "code",
   "execution_count": 4,
   "metadata": {},
   "outputs": [
    {
     "data": {
      "text/plain": [
       "(1000,)"
      ]
     },
     "execution_count": 4,
     "metadata": {},
     "output_type": "execute_result"
    }
   ],
   "source": [
    "ds.data.shape"
   ]
  },
  {
   "cell_type": "code",
   "execution_count": 5,
   "metadata": {},
   "outputs": [
    {
     "data": {
      "text/plain": [
       "'I went as a walk-in on a random Wednesday.  Tom was busy, but he squeezed me in.  In about 15 minutes and with very little direction from me I had the tighest fade this side of the Mississippi.  It was pretty neat just to watch him work.  He\\'s truly a master at what he does and I regret every dollar I\\'ve ever spent at those bargain \"value\" chains where the stylists are typically a revolving door of mediocrity.  I challenge you to find a better cut for $14.'"
      ]
     },
     "execution_count": 5,
     "metadata": {},
     "output_type": "execute_result"
    }
   ],
   "source": [
    "ds.data[0]"
   ]
  },
  {
   "cell_type": "code",
   "execution_count": null,
   "metadata": {},
   "outputs": [],
   "source": []
  },
  {
   "cell_type": "code",
   "execution_count": 6,
   "metadata": {},
   "outputs": [],
   "source": [
    "from sklearn.feature_extraction.stop_words import ENGLISH_STOP_WORDS as stopwords\n",
    "import string\n",
    "\n",
    "punctuation = string.punctuation"
   ]
  },
  {
   "cell_type": "code",
   "execution_count": 7,
   "metadata": {},
   "outputs": [],
   "source": [
    "est = SpacyTokenize(n_threads=6, punctuation=string.punctuation, stopwords=None, lemmatize=True)"
   ]
  },
  {
   "cell_type": "code",
   "execution_count": 8,
   "metadata": {},
   "outputs": [
    {
     "name": "stderr",
     "output_type": "stream",
     "text": [
      "2018-09-06 20:06:48,611 - estimators - DEBUG - Loading language model:en_core_web_sm\n"
     ]
    },
    {
     "name": "stdout",
     "output_type": "stream",
     "text": [
      "CPU times: user 648 ms, sys: 108 ms, total: 756 ms\n",
      "Wall time: 777 ms\n"
     ]
    },
    {
     "data": {
      "text/plain": [
       "SpacyTokenize(batch_size=50, language_model='en_core_web_sm', lemmatize=True,\n",
       "       n_threads=6, punctuation='!\"#$%&\\'()*+,-./:;<=>?@[\\\\]^_`{|}~',\n",
       "       stopwords=[])"
      ]
     },
     "execution_count": 8,
     "metadata": {},
     "output_type": "execute_result"
    }
   ],
   "source": [
    "%%time\n",
    "est.fit(ds.data)"
   ]
  },
  {
   "cell_type": "code",
   "execution_count": 9,
   "metadata": {},
   "outputs": [
    {
     "data": {
      "text/plain": [
       "'I went as a walk-in on a random Wednesday.  Tom was busy, but he squeezed me in.  In about 15 minutes and with very little direction from me I had the tighest fade this side of the Mississippi.  It was pretty neat just to watch him work.  He\\'s truly a master at what he does and I regret every dollar I\\'ve ever spent at those bargain \"value\" chains where the stylists are typically a revolving door of mediocrity.  I challenge you to find a better cut for $14.'"
      ]
     },
     "execution_count": 9,
     "metadata": {},
     "output_type": "execute_result"
    }
   ],
   "source": [
    "ds.data[0]"
   ]
  },
  {
   "cell_type": "code",
   "execution_count": 10,
   "metadata": {},
   "outputs": [
    {
     "name": "stderr",
     "output_type": "stream",
     "text": [
      "2018-09-06 20:06:49,451 - estimators - DEBUG - Tokenizing sentences...\n"
     ]
    },
    {
     "name": "stdout",
     "output_type": "stream",
     "text": [
      "CPU times: user 40.5 s, sys: 47.1 s, total: 1min 27s\n",
      "Wall time: 23.1 s\n"
     ]
    }
   ],
   "source": [
    "%%time\n",
    "XX = est.transform(ds.data)"
   ]
  },
  {
   "cell_type": "code",
   "execution_count": 11,
   "metadata": {},
   "outputs": [
    {
     "data": {
      "text/plain": [
       "(9747,)"
      ]
     },
     "execution_count": 11,
     "metadata": {},
     "output_type": "execute_result"
    }
   ],
   "source": [
    "XX.shape"
   ]
  },
  {
   "cell_type": "code",
   "execution_count": 13,
   "metadata": {},
   "outputs": [
    {
     "data": {
      "text/plain": [
       "['i', 'go', 'as', 'a', 'walk', 'in', 'on', 'a', 'random', 'wednesday']"
      ]
     },
     "execution_count": 13,
     "metadata": {},
     "output_type": "execute_result"
    }
   ],
   "source": [
    "XX[0]"
   ]
  },
  {
   "cell_type": "code",
   "execution_count": null,
   "metadata": {},
   "outputs": [],
   "source": []
  }
 ],
 "metadata": {
  "kernelspec": {
   "display_name": "Python [conda env:text_embedding]",
   "language": "python",
   "name": "conda-env-text_embedding-py"
  },
  "language_info": {
   "codemirror_mode": {
    "name": "ipython",
    "version": 3
   },
   "file_extension": ".py",
   "mimetype": "text/x-python",
   "name": "python",
   "nbconvert_exporter": "python",
   "pygments_lexer": "ipython3",
   "version": "3.6.6"
  }
 },
 "nbformat": 4,
 "nbformat_minor": 2
}
